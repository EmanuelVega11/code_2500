{
 "cells": [
  {
   "cell_type": "code",
   "execution_count": 1,
   "id": "019e55f9",
   "metadata": {},
   "outputs": [],
   "source": [
    "import random\n",
    "\n",
    "def demorgan_explorer(trials=5):\n",
    "    print(\"🔍 De Morgan's Laws Practice\")\n",
    "    print(\"We’ll test: not (A and B)  ==  (not A) or (not B)\")\n",
    "    print(\"and:       not (A or B)   ==  (not A) and (not B)\")\n",
    "    print(\"-\" * 40)\n",
    "\n",
    "    for i in range(trials):\n",
    "        A = random.choice([True, False])\n",
    "        B = random.choice([True, False])\n",
    "\n",
    "        left1  = not (A and B)\n",
    "        right1 = (not A) or (not B)\n",
    "\n",
    "        left2  = not (A or B)\n",
    "        right2 = (not A) and (not B)\n",
    "\n",
    "        print(f\"Case {i+1}: A = {A}, B = {B}\")\n",
    "        print(f\"  not (A and B) == (not A or not B)?  {left1 == right1}\")\n",
    "        print(f\"  not (A or B)  == (not A and not B)? {left2 == right2}\")\n",
    "        print()\n",
    "\n",
    "    print(\"✅ Notice they’re always True — that’s De Morgan’s Laws in action!\")\n"
   ]
  },
  {
   "cell_type": "code",
   "execution_count": 2,
   "id": "87a54466",
   "metadata": {},
   "outputs": [
    {
     "name": "stdout",
     "output_type": "stream",
     "text": [
      "🔍 De Morgan's Laws Practice\n",
      "We’ll test: not (A and B)  ==  (not A) or (not B)\n",
      "and:       not (A or B)   ==  (not A) and (not B)\n",
      "----------------------------------------\n",
      "Case 1: A = False, B = True\n",
      "  not (A and B) == (not A or not B)?  True\n",
      "  not (A or B)  == (not A and not B)? True\n",
      "\n",
      "Case 2: A = True, B = False\n",
      "  not (A and B) == (not A or not B)?  True\n",
      "  not (A or B)  == (not A and not B)? True\n",
      "\n",
      "Case 3: A = True, B = False\n",
      "  not (A and B) == (not A or not B)?  True\n",
      "  not (A or B)  == (not A and not B)? True\n",
      "\n",
      "Case 4: A = False, B = False\n",
      "  not (A and B) == (not A or not B)?  True\n",
      "  not (A or B)  == (not A and not B)? True\n",
      "\n",
      "Case 5: A = True, B = True\n",
      "  not (A and B) == (not A or not B)?  True\n",
      "  not (A or B)  == (not A and not B)? True\n",
      "\n",
      "Case 6: A = True, B = False\n",
      "  not (A and B) == (not A or not B)?  True\n",
      "  not (A or B)  == (not A and not B)? True\n",
      "\n",
      "✅ Notice they’re always True — that’s De Morgan’s Laws in action!\n"
     ]
    }
   ],
   "source": [
    "\n",
    "# Run the explorer\n",
    "demorgan_explorer(6)\n"
   ]
  },
  {
   "cell_type": "markdown",
   "id": "01fa4cbb",
   "metadata": {},
   "source": [
    "## Random Arguments"
   ]
  },
  {
   "cell_type": "code",
   "execution_count": 12,
   "id": "cd665d9e",
   "metadata": {},
   "outputs": [],
   "source": [
    "import itertools\n",
    "import random\n",
    "\n",
    "# --- 1. Random literal (with at most one 'not') ---\n",
    "def random_literal(variables):\n",
    "    var = random.choice(variables)\n",
    "    return var if random.random() > 0.5 else f\"not {var}\"\n",
    "\n",
    "# --- 2. Build a random formula recursively ---\n",
    "def random_formula(variables, depth=2):\n",
    "    if depth == 0:\n",
    "        return random_literal(variables)\n",
    "    left = random_formula(variables, depth - 1)\n",
    "    right = random_formula(variables, depth - 1)\n",
    "    op = random.choice([\"and\", \"or\", \"->\", \"<->\"])\n",
    "    if op == \"->\":\n",
    "        return f\"(not {left} or {right})\"  # p -> q ≡ ¬p ∨ q\n",
    "    elif op == \"<->\":\n",
    "        return f\"(({left} and {right}) or (not {left} and not {right}))\"\n",
    "    else:\n",
    "        return f\"({left} {op} {right})\"\n",
    "\n",
    "# --- 3. Evaluate a formula for a given row of truth values ---\n",
    "def eval_formula(formula, values):\n",
    "    return eval(formula, {}, values)\n",
    "\n",
    "# --- 4. Build truth table ---\n",
    "def truth_table(variables, formulas):\n",
    "    table = []\n",
    "    for combo in itertools.product([False, True], repeat=len(variables)):\n",
    "        vals = dict(zip(variables, combo))\n",
    "        row = {v: vals[v] for v in variables}\n",
    "        for label, f in formulas.items():\n",
    "            row[label] = eval_formula(f, vals)\n",
    "        table.append(row)\n",
    "    return table\n",
    "\n",
    "# --- 5. Generate a random argument ---\n",
    "def random_argument(variables=[\"p\", \"q\", \"r\"], num_premises=2):\n",
    "    premises = [random_formula(variables) for _ in range(num_premises)]\n",
    "    conclusion = random_formula(variables)\n",
    "    return premises, conclusion\n",
    "\n",
    "# --- 6. Check argument validity ---\n",
    "def check_argument(premises, conclusion, variables):\n",
    "    formulas = {f\"P{i+1}\": prem for i, prem in enumerate(premises)}\n",
    "    formulas[\"Conclusion\"] = conclusion\n",
    "    table = truth_table(variables, formulas)\n",
    "    valid = True\n",
    "    counterexamples = []\n",
    "    for row in table:\n",
    "        if all(row[f\"P{i+1}\"] for i in range(len(premises))) and not row[\"Conclusion\"]:\n",
    "            valid = False\n",
    "            counterexamples.append(row)\n",
    "    return valid, counterexamples\n",
    "\n",
    "# --- 7. Pretty-print formulas with logical symbols ---\n",
    "def pretty(formula):\n",
    "    # Replace carefully: longer substrings first\n",
    "    formula = formula.replace(\"<->\", \"↔\")\n",
    "    formula = formula.replace(\"->\", \"→\")\n",
    "    formula = formula.replace(\" and \", \" ∧ \")\n",
    "    formula = formula.replace(\" or \", \" ∨ \")\n",
    "    formula = formula.replace(\"not \", \"¬\")\n",
    "    return formula\n"
   ]
  },
  {
   "cell_type": "code",
   "execution_count": 15,
   "id": "587aa33e",
   "metadata": {},
   "outputs": [
    {
     "name": "stdout",
     "output_type": "stream",
     "text": [
      "🧠 Randomly generated argument:\n",
      "  Premise 1: (((¬p ∧ ¬p) ∨ (¬¬p ∧ ¬¬p)) ∧ (p ∧ r))\n",
      "  Premise 2: ((p ∨ ¬q) ∧ ((q ∧ p) ∨ (¬q ∧ ¬p)))\n",
      "  Conclusion: ((¬r ∨ ¬p) ∧ (r ∧ r))\n",
      "\n",
      "📊 Result:\n",
      "❌ The argument is INVALID. Counterexamples:\n",
      "   p=True, q=True, r=True, P1=True, P2=True, Conclusion=False\n"
     ]
    }
   ],
   "source": [
    "\n",
    "# --- Demo run ---\n",
    "if __name__ == \"__main__\":\n",
    "    premises, conclusion = random_argument()\n",
    "    print(\"🧠 Randomly generated argument:\")\n",
    "    for i, p in enumerate(premises, 1):\n",
    "        print(f\"  Premise {i}: {pretty(p)}\")\n",
    "    print(f\"  Conclusion: {pretty(conclusion)}\")\n",
    "\n",
    "    valid, counterexamples = check_argument(premises, conclusion, [\"p\", \"q\", \"r\"])\n",
    "\n",
    "    print(\"\\n📊 Result:\")\n",
    "    if valid:\n",
    "        print(\"✅ The argument is VALID (no counterexamples).\")\n",
    "    else:\n",
    "        print(\"❌ The argument is INVALID. Counterexamples:\")\n",
    "        for c in counterexamples:\n",
    "            print(\"   \" + \", \".join(f\"{k}={v}\" for k, v in c.items()))\n"
   ]
  },
  {
   "cell_type": "code",
   "execution_count": 13,
   "id": "b7cb4446",
   "metadata": {},
   "outputs": [
    {
     "name": "stdout",
     "output_type": "stream",
     "text": [
      "🧠 Randomly generated argument:\n",
      "  Premise 1: (¬(¬¬p ∨ p) ∨ ((¬q ∧ p) ∨ (¬¬q ∧ ¬p)))\n",
      "  Premise 2: ((¬r ∨ ¬p) ∨ (¬¬q ∨ p))\n",
      "  Conclusion: ((¬r ∨ p) ∧ (r ∨ ¬q))\n",
      "\n",
      "📊 Result:\n",
      "❌ The argument is INVALID. Counterexamples:\n",
      "   p=False, q=False, r=True, P1=True, P2=True, Conclusion=False\n",
      "   p=False, q=True, r=False, P1=True, P2=True, Conclusion=False\n",
      "   p=False, q=True, r=True, P1=True, P2=True, Conclusion=False\n"
     ]
    }
   ],
   "source": [
    "\n",
    "# --- Demo run ---\n",
    "premises, conclusion = random_argument()\n",
    "print(\"🧠 Randomly generated argument:\")\n",
    "for i, p in enumerate(premises, 1):\n",
    "    print(f\"  Premise {i}: {pretty(p)}\")\n",
    "print(f\"  Conclusion: {pretty(conclusion)}\")\n",
    "\n",
    "valid, counterexamples = check_argument(premises, conclusion, [\"p\", \"q\", \"r\"])\n",
    "\n",
    "print(\"\\n📊 Result:\")\n",
    "if valid:\n",
    "    print(\"✅ The argument is VALID (no counterexamples).\")\n",
    "else:\n",
    "    print(\"❌ The argument is INVALID. Counterexamples:\")\n",
    "    for c in counterexamples:\n",
    "        print(\"   \" + \", \".join(f\"{k}={v}\" for k, v in c.items()))\n"
   ]
  },
  {
   "cell_type": "code",
   "execution_count": null,
   "id": "8c94c446",
   "metadata": {},
   "outputs": [],
   "source": []
  }
 ],
 "metadata": {
  "kernelspec": {
   "display_name": "base",
   "language": "python",
   "name": "python3"
  },
  "language_info": {
   "codemirror_mode": {
    "name": "ipython",
    "version": 3
   },
   "file_extension": ".py",
   "mimetype": "text/x-python",
   "name": "python",
   "nbconvert_exporter": "python",
   "pygments_lexer": "ipython3",
   "version": "3.11.5"
  }
 },
 "nbformat": 4,
 "nbformat_minor": 5
}
