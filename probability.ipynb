{
 "cells": [
  {
   "cell_type": "markdown",
   "id": "65c8ef2b",
   "metadata": {},
   "source": [
    "## Create your own deck of cards\n",
    "Specify number of suits, number of numeric cards per suit, and number of face cards per suit."
   ]
  },
  {
   "cell_type": "code",
   "execution_count": null,
   "id": "ec8c1dd1",
   "metadata": {},
   "outputs": [],
   "source": [
    "import random\n",
    "\n",
    "class CustomDeck:\n",
    "    def __init__(self, num_suits=4, num_numeric=10, num_face=3):\n",
    "        self.num_suits = num_suits\n",
    "        self.num_numeric = num_numeric\n",
    "        self.num_face = num_face\n",
    "        self.suits = [f\"Suit{i+1}\" for i in range(num_suits)]\n",
    "        self.deck = self._create_deck()\n",
    "\n",
    "    def _create_deck(self):\n",
    "        deck = []\n",
    "        # Numeric cards (1, 2, ..., num_numeric)\n",
    "        for suit in self.suits:\n",
    "            for num in range(1, self.num_numeric + 1):\n",
    "                deck.append(f\"{num} of {suit}\")\n",
    "            # Face cards (F1, F2, ...)\n",
    "            for f in range(1, self.num_face + 1):\n",
    "                deck.append(f\"F{f} of {suit}\")\n",
    "        return deck\n",
    "\n",
    "    def probability_of_numeric(self):\n",
    "        numeric_count = self.num_suits * self.num_numeric\n",
    "        return numeric_count / len(self.deck)\n",
    "\n",
    "    def probability_of_face(self):\n",
    "        face_count = self.num_suits * self.num_face\n",
    "        return face_count / len(self.deck)\n",
    "\n",
    "    def probability_of_suit(self, suit_name):\n",
    "        suit_count = self.num_numeric + self.num_face\n",
    "        return suit_count / len(self.deck)\n",
    "\n",
    "    def probability_of_specific_card(self, card):\n",
    "        return 1 / len(self.deck) if card in self.deck else 0\n",
    "\n",
    "    def probability_of_multiple_cards(self, k=2):\n",
    "        \"\"\"Probability of drawing k specific cards without replacement.\"\"\"\n",
    "        if k > len(self.deck):\n",
    "            return 0\n",
    "        return 1 / self._combination(len(self.deck), k)\n",
    "        \n",
    "    def _combination(self, n, k):\n",
    "        \"\"\"Private function to compute combination C(n,k)\"\"\"\n",
    "        if k > n:\n",
    "            return 0\n",
    "        C = 1\n",
    "        for i in range(k):\n",
    "            C *= (n - i)\n",
    "        for i in range(1, k + 1):\n",
    "            C //= i\n",
    "        return C\n",
    "\n",
    "    # --- Simulation methods ---\n",
    "    def simulate_draw(self, trials=10000, condition=lambda card: \"F\" in card):\n",
    "        \"\"\"Estimate probability by simulation of drawing one card.\"\"\"\n",
    "        successes = 0\n",
    "        for _ in range(trials):\n",
    "            card = random.choice(self.deck)\n",
    "            if condition(card):\n",
    "                successes += 1\n",
    "        return successes / trials\n",
    "\n",
    "    def simulate_multiple_draws(self, k=2, trials=10000, condition=lambda cards: all(\"F\" in c for c in cards)):\n",
    "        \"\"\"Estimate probability of drawing k cards without replacement.\"\"\"\n",
    "        successes = 0\n",
    "        for _ in range(trials):\n",
    "            draw = random.sample(self.deck, k)\n",
    "            if condition(draw):\n",
    "                successes += 1\n",
    "        return successes / trials"
   ]
  },
  {
   "cell_type": "markdown",
   "id": "9bba1b90",
   "metadata": {},
   "source": [
    "### Calculate various probabilities "
   ]
  },
  {
   "cell_type": "code",
   "execution_count": null,
   "id": "ed69db7f",
   "metadata": {},
   "outputs": [],
   "source": [
    "deck = CustomDeck(num_suits=4, num_numeric=10, num_face=3)\n",
    "print(\"Deck size:\", len(deck.deck))\n",
    "print(\"Probability of numeric card:\", deck.probability_of_numeric())\n",
    "print(\"Probability of face card:\", deck.probability_of_face())\n",
    "print(\"Probability of Suit1:\", deck.probability_of_suit(\"Suit1\"))\n",
    "print(\"Probability of '5 of Suit2':\", deck.probability_of_specific_card(\"5 of Suit2\"))\n",
    "print(\"Probability of drawing 2 specific cards:\", deck.probability_of_multiple_cards(k=2))"
   ]
  },
  {
   "cell_type": "markdown",
   "id": "654b1a1e",
   "metadata": {},
   "source": [
    "### Simulate probabilities"
   ]
  },
  {
   "cell_type": "code",
   "execution_count": null,
   "id": "1b275b88",
   "metadata": {},
   "outputs": [],
   "source": [
    "print(\"Simulated probability of drawing a face card:\", deck.simulate_draw(trials=10000, condition=lambda c: \"F\" in c))\n",
    "print(\"Simulated probability of drawing 2 face cards:\", deck.simulate_multiple_draws(k=2, trials=10000, condition=lambda cards: all(\"F\" in c for c in cards)))"
   ]
  }
 ],
 "metadata": {
  "kernelspec": {
   "display_name": "base",
   "language": "python",
   "name": "python3"
  },
  "language_info": {
   "codemirror_mode": {
    "name": "ipython",
    "version": 3
   },
   "file_extension": ".py",
   "mimetype": "text/x-python",
   "name": "python",
   "nbconvert_exporter": "python",
   "pygments_lexer": "ipython3",
   "version": "3.11.5"
  }
 },
 "nbformat": 4,
 "nbformat_minor": 5
}
