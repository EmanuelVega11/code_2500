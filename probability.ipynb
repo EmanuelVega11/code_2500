{
 "cells": [
  {
   "cell_type": "markdown",
   "id": "65c8ef2b",
   "metadata": {},
   "source": [
    "## Create your own deck of cards\n",
    "Specify number of suits, number of numeric cards per suit, and number of face cards per suit."
   ]
  },
  {
   "cell_type": "code",
   "execution_count": null,
   "id": "ec8c1dd1",
   "metadata": {},
   "outputs": [],
   "source": [
    "import random\n",
    "\n",
    "class CustomDeck:\n",
    "    def __init__(self, num_suits=4, num_numeric=10, num_face=3):\n",
    "        self.num_suits = num_suits\n",
    "        self.num_numeric = num_numeric\n",
    "        self.num_face = num_face\n",
    "        self.suits = [f\"Suit{i+1}\" for i in range(num_suits)]\n",
    "        self.deck = self._create_deck()\n",
    "\n",
    "    def _create_deck(self):\n",
    "        deck = []\n",
    "        # Numeric cards (1, 2, ..., num_numeric)\n",
    "        for suit in self.suits:\n",
    "            for num in range(1, self.num_numeric + 1):\n",
    "                deck.append(f\"{num} of {suit}\")\n",
    "            # Face cards (F1, F2, ...)\n",
    "            for f in range(1, self.num_face + 1):\n",
    "                deck.append(f\"F{f} of {suit}\")\n",
    "        return deck\n",
    "\n",
    "    def probability_of_numeric(self):\n",
    "        numeric_count = self.num_suits * self.num_numeric\n",
    "        return numeric_count / len(self.deck)\n",
    "\n",
    "    def probability_of_face(self):\n",
    "        face_count = self.num_suits * self.num_face\n",
    "        return face_count / len(self.deck)\n",
    "\n",
    "    def probability_of_suit(self, suit_name):\n",
    "        suit_count = self.num_numeric + self.num_face\n",
    "        return suit_count / len(self.deck)\n",
    "\n",
    "    def probability_of_specific_card(self, card):\n",
    "        return 1 / len(self.deck) if card in self.deck else 0\n",
    "\n",
    "    def probability_of_multiple_cards(self, k=2):\n",
    "        \"\"\"Probability of drawing k specific cards without replacement.\"\"\"\n",
    "        if k > len(self.deck):\n",
    "            return 0\n",
    "        return 1 / self._combination(len(self.deck), k)\n",
    "        \n",
    "    def _combination(self, n, k):\n",
    "        \"\"\"Private function to compute combination C(n,k)\"\"\"\n",
    "        if k > n:\n",
    "            return 0\n",
    "        C = 1\n",
    "        for i in range(k):\n",
    "            C *= (n - i)\n",
    "        for i in range(1, k + 1):\n",
    "            C //= i\n",
    "        return C\n",
    "\n",
    "    # --- Simulation methods ---\n",
    "    def simulate_draw(self, trials=10000, condition=lambda card: \"F\" in card):\n",
    "        \"\"\"Estimate probability by simulation of drawing one card.\"\"\"\n",
    "        successes = 0\n",
    "        for _ in range(trials):\n",
    "            card = random.choice(self.deck)\n",
    "            if condition(card):\n",
    "                successes += 1\n",
    "        return successes / trials\n",
    "\n",
    "    def simulate_multiple_draws(self, k=2, trials=10000, condition=lambda cards: all(\"F\" in c for c in cards)):\n",
    "        \"\"\"Estimate probability of drawing k cards without replacement.\"\"\"\n",
    "        successes = 0\n",
    "        for _ in range(trials):\n",
    "            draw = random.sample(self.deck, k)\n",
    "            if condition(draw):\n",
    "                successes += 1\n",
    "        return successes / trials"
   ]
  },
  {
   "cell_type": "markdown",
   "id": "9bba1b90",
   "metadata": {},
   "source": [
    "### Calculate various probabilities "
   ]
  },
  {
   "cell_type": "code",
   "execution_count": null,
   "id": "ed69db7f",
   "metadata": {},
   "outputs": [],
   "source": [
    "deck = CustomDeck(num_suits=4, num_numeric=10, num_face=3)\n",
    "print(\"Deck size:\", len(deck.deck))\n",
    "print(\"Probability of numeric card:\", deck.probability_of_numeric())\n",
    "print(\"Probability of face card:\", deck.probability_of_face())\n",
    "print(\"Probability of Suit1:\", deck.probability_of_suit(\"Suit1\"))\n",
    "print(\"Probability of '5 of Suit2':\", deck.probability_of_specific_card(\"5 of Suit2\"))\n",
    "print(\"Probability of drawing 2 specific cards:\", deck.probability_of_multiple_cards(k=2))"
   ]
  },
  {
   "cell_type": "markdown",
   "id": "654b1a1e",
   "metadata": {},
   "source": [
    "### Simulate probabilities"
   ]
  },
  {
   "cell_type": "code",
   "execution_count": null,
   "id": "1b275b88",
   "metadata": {},
   "outputs": [],
   "source": [
    "print(\"Simulated probability of drawing a face card:\", deck.simulate_draw(trials=10000, condition=lambda c: \"F\" in c))\n",
    "print(\"Simulated probability of drawing 2 face cards:\", deck.simulate_multiple_draws(k=2, trials=10000, condition=lambda cards: all(\"F\" in c for c in cards)))"
   ]
  },
  {
   "cell_type": "markdown",
   "id": "9b638465",
   "metadata": {},
   "source": [
    "## Birthday Paradox"
   ]
  },
  {
   "cell_type": "markdown",
   "id": "98716ae9",
   "metadata": {},
   "source": [
    "Credit to Nick Pfeifer"
   ]
  },
  {
   "cell_type": "code",
   "execution_count": null,
   "id": "0c493ef8",
   "metadata": {},
   "outputs": [],
   "source": [
    "from math import perm\n",
    "\n",
    "# No AI was used to write this code :)\n",
    "\n",
    "def birthday_paradox(n_people, days = 365):\n",
    "    \"\"\"\n",
    "    Calculate the probability of having a repeat birthday given n_people\n",
    "    \n",
    "    Arguments\n",
    "    n_people: The number of people checked for a matching birthday\n",
    "    days: The number of potential birthdays (365 by default, 366 to include leap day, 669 on Mars)\n",
    "    \"\"\"\n",
    "    \n",
    "    days = days\n",
    "\n",
    "    # calcuate all possible arrangements of birthdays for n_people\n",
    "    all_possible_arrangements = days**n_people\n",
    "\n",
    "    # calculate number of arrangements with no repeats\n",
    "    arrangements_with_no_repeats = perm(days, n_people)\n",
    "\n",
    "    # calculate the number of arrangements with repeats by taking the compliment\n",
    "    arrangements_with_repeats = all_possible_arrangements - arrangements_with_no_repeats\n",
    "    \n",
    "    # Find the probability of having and not having repeats\n",
    "    probability_of_no_repeats = arrangements_with_no_repeats / all_possible_arrangements\n",
    "    probability_of_at_least_1_repeat = arrangements_with_repeats / all_possible_arrangements\n",
    "\n",
    "    print(f\"{n_people} People:\\nProbability of no repeats = {round(probability_of_no_repeats, 4)}\\nProbability of at least 1 repeat = {round(probability_of_at_least_1_repeat, 4)}\")"
   ]
  },
  {
   "cell_type": "code",
   "execution_count": null,
   "id": "5c76b761",
   "metadata": {},
   "outputs": [],
   "source": [
    "# Example usage\n",
    "\n",
    "birthday_paradox(23)"
   ]
  },
  {
   "cell_type": "markdown",
   "id": "c7a4bf2a",
   "metadata": {},
   "source": [
    "## Bayes Theorem on Umbrellas"
   ]
  },
  {
   "cell_type": "code",
   "execution_count": null,
   "id": "ed6b9e27",
   "metadata": {},
   "outputs": [],
   "source": [
    "import matplotlib.pyplot as plt\n",
    "\n",
    "def bayes_with_pie(P_R, P_U_given_R, P_U_given_notR):\n",
    "    # Complements\n",
    "    P_notR = 1 - P_R\n",
    "\n",
    "    # Joint probabilities\n",
    "    P_R_and_U = P_U_given_R * P_R\n",
    "    P_notR_and_U = P_U_given_notR * P_notR\n",
    "\n",
    "    P_R_and_notU = (1 - P_U_given_R) * P_R\n",
    "    P_notR_and_notU = (1 - P_U_given_notR) * P_notR\n",
    "\n",
    "    # Denominator for Bayes\n",
    "    P_U = P_R_and_U + P_notR_and_U\n",
    "\n",
    "    # Posterior\n",
    "    P_R_given_U = P_R_and_U / P_U if P_U > 0 else 0\n",
    "\n",
    "    # Print results\n",
    "    print(\"=== Bayes' Theorem Result ===\")\n",
    "    print(f\"P(Rain | Umbrella) = {P_R_given_U:.4f} ({P_R_given_U*100:.2f}%)\")\n",
    "    print()\n",
    "    print(\"Joint probabilities:\")\n",
    "    print(f\"Rain & Umbrella: {P_R_and_U:.4f}\")\n",
    "    print(f\"Rain & No Umbrella: {P_R_and_notU:.4f}\")\n",
    "    print(f\"No Rain & Umbrella: {P_notR_and_U:.4f}\")\n",
    "    print(f\"No Rain & No Umbrella: {P_notR_and_notU:.4f}\")\n",
    "\n",
    "    # Pie chart\n",
    "    labels = [\"Rain & Umbrella\", \"Rain & No Umbrella\",\n",
    "              \"No Rain & Umbrella\", \"No Rain & No Umbrella\"]\n",
    "    probs = [P_R_and_U, P_R_and_notU, P_notR_and_U, P_notR_and_notU]\n",
    "\n",
    "    plt.figure(figsize=(6,6))\n",
    "    plt.pie(probs, labels=labels, autopct=\"%.1f%%\",\n",
    "            startangle=140, colors=[\"#4fa3ff\",\"#9fd3ff\",\"#ff9999\",\"#ffcccc\"])\n",
    "    plt.title(\"Rain vs. Umbrella (Joint Probabilities)\")\n",
    "    plt.show()"
   ]
  },
  {
   "cell_type": "markdown",
   "id": "a67c8040",
   "metadata": {},
   "source": [
    "What is the probability of rain if you see someone carrying an umbrella?"
   ]
  },
  {
   "cell_type": "code",
   "execution_count": null,
   "id": "e344cf02",
   "metadata": {},
   "outputs": [],
   "source": [
    "# Provide the probability of rain P(R)\n",
    "P_R = 0.15\n",
    "\n",
    "# Provide the probability of a person carrying an umbrella when it's raining\n",
    "P_U_given_R = 0.8\n",
    "\n",
    "# Provide the probability of a person carrying an umbrella when it's not raining\n",
    "P_U_given_notR = 0.05\n",
    "\n",
    "bayes_with_pie(P_R, P_U_given_R, P_U_given_notR)"
   ]
  },
  {
   "cell_type": "markdown",
   "id": "fa72cac7",
   "metadata": {},
   "source": [
    "## Monty Hall Simulations"
   ]
  },
  {
   "cell_type": "code",
   "execution_count": null,
   "id": "8cf557a4",
   "metadata": {},
   "outputs": [],
   "source": [
    "import random\n",
    "import matplotlib.pyplot as plt\n",
    "\n",
    "def monty_hall_sim(n_trials=200000):\n",
    "    \"\"\"Simulate Monty Hall for n_trials and return (stay_wins, switch_wins).\"\"\"\n",
    "    stay_wins = 0\n",
    "    switch_wins = 0\n",
    "    \n",
    "    for _ in range(n_trials):\n",
    "        # Randomly place the car behind one of 3 doors\n",
    "        car = random.randrange(3)        # 0,1,2\n",
    "        # Player randomly picks a door\n",
    "        choice = random.randrange(3)\n",
    "        \n",
    "        # Host opens a door that is not the player's choice and not the car\n",
    "        possible_hosts = [d for d in range(3) if d != choice and d != car]\n",
    "        host = random.choice(possible_hosts)\n",
    "        \n",
    "        # The door available for switching\n",
    "        switch_target = [d for d in range(3) if d != choice and d != host][0]\n",
    "        \n",
    "        # Check outcomes\n",
    "        if choice == car:        # staying wins\n",
    "            stay_wins += 1\n",
    "        if switch_target == car: # switching wins\n",
    "            switch_wins += 1\n",
    "            \n",
    "    return stay_wins, switch_wins\n",
    "\n",
    "# Run simulation\n",
    "N = 200000\n",
    "stay_wins, switch_wins = monty_hall_sim(N)\n",
    "stay_prob = stay_wins / N\n",
    "switch_prob = switch_wins / N\n",
    "\n",
    "# Print results\n",
    "print(f\"Trials: {N}\")\n",
    "print(f\"Stay wins:   {stay_wins} ({stay_prob:.4f})\")\n",
    "print(f\"Switch wins: {switch_wins} ({switch_prob:.4f})\")\n",
    "\n",
    "# Plot results\n",
    "plt.figure(figsize=(6,4))\n",
    "plt.bar(['Stay','Switch'], [stay_prob, switch_prob], color=['skyblue','lightgreen'])\n",
    "plt.ylim(0,1)\n",
    "plt.ylabel('Probability of winning')\n",
    "plt.title('Monty Hall simulation (stay vs switch)')\n",
    "plt.show()\n"
   ]
  },
  {
   "cell_type": "markdown",
   "id": "6aadd9ca",
   "metadata": {},
   "source": [
    "## Monte Carlo Integration"
   ]
  },
  {
   "cell_type": "markdown",
   "id": "71153e76",
   "metadata": {},
   "source": [
    "Credit to Jimmy Padilla"
   ]
  },
  {
   "cell_type": "markdown",
   "id": "ec6dfbd4",
   "metadata": {},
   "source": [
    "Monte Carlo integration is about estimating the area under a curve by using random points instead of exact math. If we pick random points on the graph of a function, we can expect that a certain fraction of those points will land in the region we want vs outside of it. As our number of samples gets large, we can expect this ratio to approach the true ratio.\n",
    "\n",
    "$\\text{Area under curve} = \\frac{\\text{points inside region}}{\\text{total points}} * \\text{area of the total region}$\n",
    "\n",
    "Try changing the bounds, function, or number of samples in this example. Also try running it a couple times to the values change."
   ]
  },
  {
   "cell_type": "code",
   "execution_count": null,
   "id": "3298c92d",
   "metadata": {},
   "outputs": [],
   "source": [
    "import numpy as np\n",
    "import matplotlib.pyplot as plt\n",
    "from scipy.integrate import quad\n",
    "\n",
    "a, b = -1.0, 1.0 # try changing the bounds\n",
    "f = lambda x: np.abs(x**2) # try changing the function (this only works if the function is positive)\n",
    "x = np.linspace(a, b, 500)\n",
    "ymax = np.max(f(x))\n",
    "\n",
    "# this really only works for positive areas (will get weird for other shapes the way I'm writing it.)\n",
    "plt.xlim(a, b)\n",
    "plt.ylim(0, ymax)\n",
    "plt.plot(x, f(x), 'b--', label=\"y=f(x)\")\n",
    "\n",
    "# now we generate our huge number of points\n",
    "scatter_points = []\n",
    "N = 1500\n",
    "for i in range(N):\n",
    "    x_sample = np.random.random() * (b-a) + a # generates a random value between [-1, 1)\n",
    "    y_sample = np.random.random() * (ymax) # generates a random value between [0, ymax)\n",
    "    scatter_points.append((x_sample, y_sample))\n",
    "\n",
    "points_in = []\n",
    "points_out = []\n",
    "for sample_point in scatter_points:\n",
    "    if (sample_point[1] > f(sample_point[0])): # checking whether the point is above or below f(x)\n",
    "        points_out.append(sample_point)\n",
    "    else:\n",
    "        points_in.append(sample_point)\n",
    "    \n",
    "x_in, y_in = zip(*points_in)\n",
    "x_out, y_out = zip(*points_out)\n",
    "\n",
    "plt.plot(x_in, y_in, 'go', label=\"in\")\n",
    "plt.plot(x_out, y_out, 'ro', label=\"out\")\n",
    "plt.title(\"f(x)\")\n",
    "plt.xlabel(\"x\")\n",
    "plt.ylabel(\"y\")\n",
    "\n",
    "plt.show()\n",
    "\n",
    "ratio = len(points_in) / N\n",
    "approx_area = ratio * ymax * (b - a) # ymax * (b-a) is the area of the rectangle in the graph\n",
    "\n",
    "result, _ = quad(f, a, b) # this is how you do an integral in python (using riemann sum)\n",
    "p_error = (np.abs(result - approx_area))/approx_area # % error = (actual - expected) / expected\n",
    "\n",
    "print(f\"Total Points = {N}\")\n",
    "print(f\"Green Points = {len(points_in)}\")\n",
    "print(f\"Red Points = {len(points_out)}\")\n",
    "print(f\"Green/Total = {ratio:.5f}\")\n",
    "print(f\"Approx. Area = {approx_area:.5f}\")\n",
    "print(f\"Real Area = {result:.5f}\")\n",
    "print(f\"% error = {p_error*100:.5f}%\")"
   ]
  },
  {
   "cell_type": "markdown",
   "id": "aab9203f",
   "metadata": {},
   "source": []
  }
 ],
 "metadata": {
  "kernelspec": {
   "display_name": "base",
   "language": "python",
   "name": "python3"
  },
  "language_info": {
   "codemirror_mode": {
    "name": "ipython",
    "version": 3
   },
   "file_extension": ".py",
   "mimetype": "text/x-python",
   "name": "python",
   "nbconvert_exporter": "python",
   "pygments_lexer": "ipython3",
   "version": "3.11.5"
  }
 },
 "nbformat": 4,
 "nbformat_minor": 5
}
