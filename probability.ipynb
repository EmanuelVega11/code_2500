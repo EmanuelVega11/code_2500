{
 "cells": [
  {
   "cell_type": "markdown",
   "id": "65c8ef2b",
   "metadata": {},
   "source": [
    "## Create your own deck of cards\n",
    "Specify number of suits, number of numeric cards per suit, and number of face cards per suit."
   ]
  },
  {
   "cell_type": "code",
   "execution_count": null,
   "id": "ec8c1dd1",
   "metadata": {},
   "outputs": [],
   "source": [
    "import random\n",
    "\n",
    "class CustomDeck:\n",
    "    def __init__(self, num_suits=4, num_numeric=10, num_face=3):\n",
    "        self.num_suits = num_suits\n",
    "        self.num_numeric = num_numeric\n",
    "        self.num_face = num_face\n",
    "        self.suits = [f\"Suit{i+1}\" for i in range(num_suits)]\n",
    "        self.deck = self._create_deck()\n",
    "\n",
    "    def _create_deck(self):\n",
    "        deck = []\n",
    "        # Numeric cards (1, 2, ..., num_numeric)\n",
    "        for suit in self.suits:\n",
    "            for num in range(1, self.num_numeric + 1):\n",
    "                deck.append(f\"{num} of {suit}\")\n",
    "            # Face cards (F1, F2, ...)\n",
    "            for f in range(1, self.num_face + 1):\n",
    "                deck.append(f\"F{f} of {suit}\")\n",
    "        return deck\n",
    "\n",
    "    def probability_of_numeric(self):\n",
    "        numeric_count = self.num_suits * self.num_numeric\n",
    "        return numeric_count / len(self.deck)\n",
    "\n",
    "    def probability_of_face(self):\n",
    "        face_count = self.num_suits * self.num_face\n",
    "        return face_count / len(self.deck)\n",
    "\n",
    "    def probability_of_suit(self, suit_name):\n",
    "        suit_count = self.num_numeric + self.num_face\n",
    "        return suit_count / len(self.deck)\n",
    "\n",
    "    def probability_of_specific_card(self, card):\n",
    "        return 1 / len(self.deck) if card in self.deck else 0\n",
    "\n",
    "    def probability_of_multiple_cards(self, k=2):\n",
    "        \"\"\"Probability of drawing k specific cards without replacement.\"\"\"\n",
    "        if k > len(self.deck):\n",
    "            return 0\n",
    "        return 1 / self._combination(len(self.deck), k)\n",
    "        \n",
    "    def _combination(self, n, k):\n",
    "        \"\"\"Private function to compute combination C(n,k)\"\"\"\n",
    "        if k > n:\n",
    "            return 0\n",
    "        C = 1\n",
    "        for i in range(k):\n",
    "            C *= (n - i)\n",
    "        for i in range(1, k + 1):\n",
    "            C //= i\n",
    "        return C\n",
    "\n",
    "    # --- Simulation methods ---\n",
    "    def simulate_draw(self, trials=10000, condition=lambda card: \"F\" in card):\n",
    "        \"\"\"Estimate probability by simulation of drawing one card.\"\"\"\n",
    "        successes = 0\n",
    "        for _ in range(trials):\n",
    "            card = random.choice(self.deck)\n",
    "            if condition(card):\n",
    "                successes += 1\n",
    "        return successes / trials\n",
    "\n",
    "    def simulate_multiple_draws(self, k=2, trials=10000, condition=lambda cards: all(\"F\" in c for c in cards)):\n",
    "        \"\"\"Estimate probability of drawing k cards without replacement.\"\"\"\n",
    "        successes = 0\n",
    "        for _ in range(trials):\n",
    "            draw = random.sample(self.deck, k)\n",
    "            if condition(draw):\n",
    "                successes += 1\n",
    "        return successes / trials"
   ]
  },
  {
   "cell_type": "markdown",
   "id": "9bba1b90",
   "metadata": {},
   "source": [
    "### Calculate various probabilities "
   ]
  },
  {
   "cell_type": "code",
   "execution_count": null,
   "id": "ed69db7f",
   "metadata": {},
   "outputs": [],
   "source": [
    "deck = CustomDeck(num_suits=4, num_numeric=10, num_face=3)\n",
    "print(\"Deck size:\", len(deck.deck))\n",
    "print(\"Probability of numeric card:\", deck.probability_of_numeric())\n",
    "print(\"Probability of face card:\", deck.probability_of_face())\n",
    "print(\"Probability of Suit1:\", deck.probability_of_suit(\"Suit1\"))\n",
    "print(\"Probability of '5 of Suit2':\", deck.probability_of_specific_card(\"5 of Suit2\"))\n",
    "print(\"Probability of drawing 2 specific cards:\", deck.probability_of_multiple_cards(k=2))"
   ]
  },
  {
   "cell_type": "markdown",
   "id": "654b1a1e",
   "metadata": {},
   "source": [
    "### Simulate probabilities"
   ]
  },
  {
   "cell_type": "code",
   "execution_count": null,
   "id": "1b275b88",
   "metadata": {},
   "outputs": [],
   "source": [
    "print(\"Simulated probability of drawing a face card:\", deck.simulate_draw(trials=10000, condition=lambda c: \"F\" in c))\n",
    "print(\"Simulated probability of drawing 2 face cards:\", deck.simulate_multiple_draws(k=2, trials=10000, condition=lambda cards: all(\"F\" in c for c in cards)))"
   ]
  },
  {
   "cell_type": "markdown",
   "id": "c7a4bf2a",
   "metadata": {},
   "source": [
    "## Bayes Theorem on Umbrellas"
   ]
  },
  {
   "cell_type": "code",
   "execution_count": null,
   "id": "ed6b9e27",
   "metadata": {},
   "outputs": [],
   "source": [
    "import matplotlib.pyplot as plt\n",
    "\n",
    "def bayes_with_pie(P_R, P_U_given_R, P_U_given_notR):\n",
    "    # Complements\n",
    "    P_notR = 1 - P_R\n",
    "\n",
    "    # Joint probabilities\n",
    "    P_R_and_U = P_U_given_R * P_R\n",
    "    P_notR_and_U = P_U_given_notR * P_notR\n",
    "\n",
    "    P_R_and_notU = (1 - P_U_given_R) * P_R\n",
    "    P_notR_and_notU = (1 - P_U_given_notR) * P_notR\n",
    "\n",
    "    # Denominator for Bayes\n",
    "    P_U = P_R_and_U + P_notR_and_U\n",
    "\n",
    "    # Posterior\n",
    "    P_R_given_U = P_R_and_U / P_U if P_U > 0 else 0\n",
    "\n",
    "    # Print results\n",
    "    print(\"=== Bayes' Theorem Result ===\")\n",
    "    print(f\"P(Rain | Umbrella) = {P_R_given_U:.4f} ({P_R_given_U*100:.2f}%)\")\n",
    "    print()\n",
    "    print(\"Joint probabilities:\")\n",
    "    print(f\"Rain & Umbrella: {P_R_and_U:.4f}\")\n",
    "    print(f\"Rain & No Umbrella: {P_R_and_notU:.4f}\")\n",
    "    print(f\"No Rain & Umbrella: {P_notR_and_U:.4f}\")\n",
    "    print(f\"No Rain & No Umbrella: {P_notR_and_notU:.4f}\")\n",
    "\n",
    "    # Pie chart\n",
    "    labels = [\"Rain & Umbrella\", \"Rain & No Umbrella\",\n",
    "              \"No Rain & Umbrella\", \"No Rain & No Umbrella\"]\n",
    "    probs = [P_R_and_U, P_R_and_notU, P_notR_and_U, P_notR_and_notU]\n",
    "\n",
    "    plt.figure(figsize=(6,6))\n",
    "    plt.pie(probs, labels=labels, autopct=\"%.1f%%\",\n",
    "            startangle=140, colors=[\"#4fa3ff\",\"#9fd3ff\",\"#ff9999\",\"#ffcccc\"])\n",
    "    plt.title(\"Rain vs. Umbrella (Joint Probabilities)\")\n",
    "    plt.show()"
   ]
  },
  {
   "cell_type": "markdown",
   "id": "a67c8040",
   "metadata": {},
   "source": [
    "What is the probability of rain if you see someone carrying an umbrella?"
   ]
  },
  {
   "cell_type": "code",
   "execution_count": null,
   "id": "e344cf02",
   "metadata": {},
   "outputs": [],
   "source": [
    "# Provide the probability of rain P(R)\n",
    "P_R = 0.15\n",
    "\n",
    "# Provide the probability of a person carrying an umbrella when it's raining\n",
    "P_U_given_R = 0.8\n",
    "\n",
    "# Provide the probability of a person carrying an umbrella when it's not raining\n",
    "P_U_given_notR = 0.05\n",
    "\n",
    "bayes_with_pie(P_R, P_U_given_R, P_U_given_notR)"
   ]
  },
  {
   "cell_type": "markdown",
   "id": "fa72cac7",
   "metadata": {},
   "source": [
    "## Monty Hall Simulations"
   ]
  },
  {
   "cell_type": "code",
   "execution_count": null,
   "id": "8cf557a4",
   "metadata": {},
   "outputs": [],
   "source": [
    "import random\n",
    "import matplotlib.pyplot as plt\n",
    "\n",
    "def monty_hall_sim(n_trials=200000):\n",
    "    \"\"\"Simulate Monty Hall for n_trials and return (stay_wins, switch_wins).\"\"\"\n",
    "    stay_wins = 0\n",
    "    switch_wins = 0\n",
    "    \n",
    "    for _ in range(n_trials):\n",
    "        # Randomly place the car behind one of 3 doors\n",
    "        car = random.randrange(3)        # 0,1,2\n",
    "        # Player randomly picks a door\n",
    "        choice = random.randrange(3)\n",
    "        \n",
    "        # Host opens a door that is not the player's choice and not the car\n",
    "        possible_hosts = [d for d in range(3) if d != choice and d != car]\n",
    "        host = random.choice(possible_hosts)\n",
    "        \n",
    "        # The door available for switching\n",
    "        switch_target = [d for d in range(3) if d != choice and d != host][0]\n",
    "        \n",
    "        # Check outcomes\n",
    "        if choice == car:        # staying wins\n",
    "            stay_wins += 1\n",
    "        if switch_target == car: # switching wins\n",
    "            switch_wins += 1\n",
    "            \n",
    "    return stay_wins, switch_wins\n",
    "\n",
    "# Run simulation\n",
    "N = 200000\n",
    "stay_wins, switch_wins = monty_hall_sim(N)\n",
    "stay_prob = stay_wins / N\n",
    "switch_prob = switch_wins / N\n",
    "\n",
    "# Print results\n",
    "print(f\"Trials: {N}\")\n",
    "print(f\"Stay wins:   {stay_wins} ({stay_prob:.4f})\")\n",
    "print(f\"Switch wins: {switch_wins} ({switch_prob:.4f})\")\n",
    "\n",
    "# Plot results\n",
    "plt.figure(figsize=(6,4))\n",
    "plt.bar(['Stay','Switch'], [stay_prob, switch_prob], color=['skyblue','lightgreen'])\n",
    "plt.ylim(0,1)\n",
    "plt.ylabel('Probability of winning')\n",
    "plt.title('Monty Hall simulation (stay vs switch)')\n",
    "plt.show()\n"
   ]
  },
  {
   "cell_type": "code",
   "execution_count": null,
   "id": "77776d22",
   "metadata": {},
   "outputs": [],
   "source": []
  }
 ],
 "metadata": {
  "kernelspec": {
   "display_name": "base",
   "language": "python",
   "name": "python3"
  },
  "language_info": {
   "codemirror_mode": {
    "name": "ipython",
    "version": 3
   },
   "file_extension": ".py",
   "mimetype": "text/x-python",
   "name": "python",
   "nbconvert_exporter": "python",
   "pygments_lexer": "ipython3",
   "version": "3.11.5"
  }
 },
 "nbformat": 4,
 "nbformat_minor": 5
}
