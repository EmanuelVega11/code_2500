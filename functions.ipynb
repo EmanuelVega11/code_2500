{
 "cells": [
  {
   "cell_type": "code",
   "execution_count": null,
   "id": "4b6aacec",
   "metadata": {},
   "outputs": [],
   "source": [
    "def is_injective(f, domain):\n",
    "    \"\"\"Check if function f is injective (one-to-one) over given domain.\"\"\"\n",
    "    seen = set()\n",
    "    for x in domain:\n",
    "        y = f(x)\n",
    "        if y in seen:\n",
    "            return False\n",
    "        seen.add(y)\n",
    "    return True"
   ]
  },
  {
   "cell_type": "code",
   "execution_count": null,
   "id": "f8aef4db",
   "metadata": {},
   "outputs": [],
   "source": [
    "# Example function: f(x) = 2x + 3\n",
    "f = lambda x: 2*x + 3\n",
    "domain = range(5)  # {0,1,2,3,4}\n",
    "\n",
    "print(\"Is f injective?\", is_injective(f, domain))"
   ]
  },
  {
   "cell_type": "code",
   "execution_count": null,
   "id": "53e1502d",
   "metadata": {},
   "outputs": [],
   "source": [
    "def is_surjective(f, domain, codomain):\n",
    "    \"\"\"Check if function f is surjective (onto) over given domain and codomain.\"\"\"\n",
    "    mapped_values = {f(x) for x in domain}\n",
    "    return mapped_values == set(codomain)"
   ]
  },
  {
   "cell_type": "code",
   "execution_count": null,
   "id": "cf7ea25b",
   "metadata": {},
   "outputs": [],
   "source": [
    "# Example function: f(x) = x % 3 over integers 0..5\n",
    "f = lambda x: x % 3\n",
    "domain = range(6)     # Inputs: 0..5\n",
    "codomain = {0, 1, 2}  # All possible remainders\n",
    "\n",
    "print(\"Is f surjective?\", is_surjective(f, domain, codomain))"
   ]
  },
  {
   "cell_type": "code",
   "execution_count": null,
   "id": "7e6b25f6",
   "metadata": {},
   "outputs": [],
   "source": [
    "def is_bijective(f, domain, codomain):\n",
    "    return is_injective(f, domain) and is_surjective(f, domain, codomain)"
   ]
  },
  {
   "cell_type": "code",
   "execution_count": null,
   "id": "4fdfcb62",
   "metadata": {},
   "outputs": [],
   "source": [
    "# Example: f(x) = (x + 1) % 5 over domain = {0,1,2,3,4}\n",
    "f = lambda x: (x + 1) % 5\n",
    "domain = range(5)\n",
    "codomain = {0,1,2,3,4}\n",
    "\n",
    "print(\"Is f bijective?\", is_bijective(f, domain, codomain))\n"
   ]
  }
 ],
 "metadata": {
  "language_info": {
   "name": "python"
  }
 },
 "nbformat": 4,
 "nbformat_minor": 5
}
