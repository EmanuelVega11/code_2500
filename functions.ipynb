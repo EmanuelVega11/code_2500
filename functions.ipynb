{
 "cells": [
  {
   "cell_type": "markdown",
   "id": "46bd3237",
   "metadata": {},
   "source": [
    "### Basic functions for testing one-to-one and onto"
   ]
  },
  {
   "cell_type": "code",
   "execution_count": null,
   "id": "4b6aacec",
   "metadata": {},
   "outputs": [],
   "source": [
    "def is_injective(f, domain):\n",
    "    \"\"\"Check if function f is injective (one-to-one) over given domain.\"\"\"\n",
    "    seen = set()\n",
    "    for x in domain:\n",
    "        y = f(x)\n",
    "        if y in seen:\n",
    "            return False\n",
    "        seen.add(y)\n",
    "    return True"
   ]
  },
  {
   "cell_type": "code",
   "execution_count": null,
   "id": "f8aef4db",
   "metadata": {},
   "outputs": [],
   "source": [
    "# Example function: f(x) = 2x + 3\n",
    "f = lambda x: 2*x + 3\n",
    "domain = range(5)  # {0,1,2,3,4}\n",
    "\n",
    "print(\"Is f injective?\", is_injective(f, domain))"
   ]
  },
  {
   "cell_type": "code",
   "execution_count": null,
   "id": "53e1502d",
   "metadata": {},
   "outputs": [],
   "source": [
    "def is_surjective(f, domain, codomain):\n",
    "    \"\"\"Check if function f is surjective (onto) over given domain and codomain.\"\"\"\n",
    "    mapped_values = {f(x) for x in domain}\n",
    "    return mapped_values == set(codomain)"
   ]
  },
  {
   "cell_type": "code",
   "execution_count": null,
   "id": "cf7ea25b",
   "metadata": {},
   "outputs": [],
   "source": [
    "# Example function: f(x) = x % 3 over integers 0,1,2,3,4,5\n",
    "f = lambda x: x % 3\n",
    "domain = range(6)     # {0,1,2,3,4,5}\n",
    "codomain = {0, 1, 2}  # All possible remainders\n",
    "\n",
    "print(\"Is f surjective?\", is_surjective(f, domain, codomain))"
   ]
  },
  {
   "cell_type": "code",
   "execution_count": null,
   "id": "8a48be09",
   "metadata": {},
   "outputs": [],
   "source": [
    "print(\"Is f injective?\", is_injective(f, domain))"
   ]
  },
  {
   "cell_type": "code",
   "execution_count": null,
   "id": "7e6b25f6",
   "metadata": {},
   "outputs": [],
   "source": [
    "def is_bijective(f, domain, codomain):\n",
    "    return is_injective(f, domain) and is_surjective(f, domain, codomain)"
   ]
  },
  {
   "cell_type": "code",
   "execution_count": null,
   "id": "4fdfcb62",
   "metadata": {},
   "outputs": [],
   "source": [
    "# Example: f(x) = (x + 1) % 5 over domain = {0,1,2,3,4}\n",
    "f = lambda x: (x + 1) % 5\n",
    "domain = range(5)\n",
    "codomain = {0,1,2,3,4}\n",
    "\n",
    "print(\"Is f bijective?\", is_bijective(f, domain, codomain))"
   ]
  },
  {
   "cell_type": "markdown",
   "id": "65fac86d",
   "metadata": {},
   "source": [
    "### Mapping diagrams"
   ]
  },
  {
   "cell_type": "code",
   "execution_count": null,
   "id": "8ec0edcb",
   "metadata": {},
   "outputs": [],
   "source": [
    "import matplotlib.pyplot as plt\n",
    "\n",
    "def plot_mapping(domain, codomain, mapping, title=None):\n",
    "    \"\"\"Plot a mapping diagram and detect injective/surjective/bijective.\"\"\"\n",
    "    \n",
    "    # Detect type\n",
    "    injective = is_injective(mapping, domain)\n",
    "    surjective = is_surjective(mapping, domain, codomain)\n",
    "    \n",
    "    if title is None:\n",
    "        if injective and surjective:\n",
    "            title = \"Bijective (One-to-One and Onto)\"\n",
    "        elif injective:\n",
    "            title = \"Injective (One-to-One) but not Surjective\"\n",
    "        elif surjective:\n",
    "            title = \"Surjective (Onto) but not Injective\"\n",
    "        else:\n",
    "            title = \"Neither Injective nor Surjective\"\n",
    "    \n",
    "    # Create diagram\n",
    "    plt.figure(figsize=(6,4))\n",
    "    \n",
    "    # Plot domain and codomain\n",
    "    for i, x in enumerate(domain):\n",
    "        plt.plot(0, -i, 'bo', markersize=10)\n",
    "        plt.text(-0.2, -i, str(x), ha='right', va='center', fontsize=12)\n",
    "    for j, y in enumerate(codomain):\n",
    "        plt.plot(2, -j, 'ro', markersize=10)\n",
    "        plt.text(2.2, -j, str(y), ha='left', va='center', fontsize=12)\n",
    "    \n",
    "    # Draw arrows\n",
    "    for i, x in enumerate(domain):\n",
    "        y_val = mapping(x)\n",
    "        if y_val not in codomain:\n",
    "            raise ValueError(f\"Function output {y_val} not in codomain\")\n",
    "        j = codomain.index(y_val)\n",
    "        plt.arrow(0.1, -i, 1.8, -(j - i), \n",
    "                  head_width=0.1, length_includes_head=True, color='gray')\n",
    "    \n",
    "    plt.axis('off')\n",
    "    plt.title(title, fontsize=14)\n",
    "    plt.show()\n"
   ]
  },
  {
   "cell_type": "markdown",
   "id": "3ad78321",
   "metadata": {},
   "source": [
    "### Examples"
   ]
  },
  {
   "cell_type": "code",
   "execution_count": null,
   "id": "9c470de3",
   "metadata": {},
   "outputs": [],
   "source": [
    "\n",
    "# 1. Injective but not Surjective\n",
    "plot_mapping(\n",
    "    domain=[0, 1, 2, 3],\n",
    "    codomain=[10, 11, 12, 13, 14],\n",
    "    mapping=lambda x: 10 + x\n",
    ")\n",
    "\n",
    "# 2. Surjective but not Injective\n",
    "plot_mapping(\n",
    "    domain=[0, 1, 2, 3, 4, 5],\n",
    "    codomain=[0, 1, 2],\n",
    "    mapping=lambda x: x % 3\n",
    ")\n",
    "\n",
    "# 3. Bijective\n",
    "plot_mapping(\n",
    "    domain=[0, 1, 2, 3, 4],\n",
    "    codomain=[1, 2, 3, 4, 0],\n",
    "    mapping=lambda x: (x + 1) % 5\n",
    ")"
   ]
  },
  {
   "cell_type": "code",
   "execution_count": null,
   "id": "2d934a2d",
   "metadata": {},
   "outputs": [],
   "source": []
  }
 ],
 "metadata": {
  "kernelspec": {
   "display_name": "base",
   "language": "python",
   "name": "python3"
  },
  "language_info": {
   "codemirror_mode": {
    "name": "ipython",
    "version": 3
   },
   "file_extension": ".py",
   "mimetype": "text/x-python",
   "name": "python",
   "nbconvert_exporter": "python",
   "pygments_lexer": "ipython3",
   "version": "3.11.5"
  }
 },
 "nbformat": 4,
 "nbformat_minor": 5
}
