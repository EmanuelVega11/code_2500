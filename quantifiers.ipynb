{
 "cells": [
  {
   "cell_type": "code",
   "execution_count": 9,
   "id": "288c7dc6",
   "metadata": {},
   "outputs": [],
   "source": [
    "import random\n",
    "\n",
    "def generate_statement():\n",
    "    # Possible quantifiers\n",
    "    quantifiers = [\"For all\", \"There exists\"]\n",
    "    # Possible domains\n",
    "    domains = [\n",
    "        (\"integer n\", \"n\"),\n",
    "        (\"real number x\", \"x\"),\n",
    "        (\"person p\", \"p\"),\n",
    "        (\"graph G\", \"G\"),\n",
    "        (\"set S\", \"S\")\n",
    "    ]\n",
    "    # Possible predicates (with placeholders for variable)\n",
    "    predicate_pairs = [\n",
    "        (\"{} is even\", \"{} is odd\"),\n",
    "        (\"{} is odd\", \"{} is even\"),\n",
    "        (\"{} is prime\", \"{} is not prime\"),\n",
    "        (\"{} is positive\", \"{} is not positive\"),\n",
    "        (\"{} is negative\", \"{} is not negative\"),\n",
    "        (\"{} is divisible by 3\", \"{} is not divisible by 3\"),\n",
    "        (\"{} contains 0\", \"{} does not contain 0\"),\n",
    "        (\"{} is non-empty\", \"{} is empty\"),\n",
    "        (\"{} knows another person\", \"{} does not know another person\"),\n",
    "        (\"{} has degree 0\", \"{} does not have degree 0\"),\n",
    "        (\"{} is finite\", \"{} is infinite\"),\n",
    "        (\"{} is greater than 10\", \"{} is not greater than 10\")\n",
    "    ]\n",
    "\n",
    "    quantifier = random.choice(quantifiers)\n",
    "    domain, var = random.choice(domains)\n",
    "    predicate, negated_predicate = random.choice(predicate_pairs)\n",
    "    connector = \", \" if quantifier == \"For all\" else \" such that\"\n",
    "\n",
    "    # Build original statement\n",
    "    statement = f\"{quantifier} {domain}{connector} {predicate.format(var)}.\"\n",
    "\n",
    "    # Build negation automatically:\n",
    "    # - Flip quantifier\n",
    "    negation_quantifier = \"There exists\" if quantifier == \"For all\" else \"For all\"\n",
    "\n",
    "    # - Get appropriate connecting words\n",
    "    negation_connector = \", \" if negation_quantifier == \"For all\" else \" such that\"\n",
    "\n",
    "    # - Build negation\n",
    "    negation = f\"{negation_quantifier} {domain}{negation_connector} {negated_predicate.format(var)}.\"\n",
    "\n",
    "    return statement, negation\n",
    "\n",
    "def quantifier_practice_random():\n",
    "    statement, negation = generate_statement()\n",
    "    print(\"💡 Original statement:\")\n",
    "    print(statement)\n",
    "    print(\"\\n❓ Try to write its negation.\\n\")\n",
    "    input(\"Press Enter to reveal the correct negation...\")\n",
    "    print(\"\\n✅ Correct negation:\")\n",
    "    print(negation)"
   ]
  },
  {
   "cell_type": "code",
   "execution_count": 10,
   "id": "68852d9c",
   "metadata": {},
   "outputs": [
    {
     "name": "stdout",
     "output_type": "stream",
     "text": [
      "💡 Original statement:\n",
      "For all real number x,  x is even.\n",
      "\n",
      "❓ Try to write its negation.\n",
      "\n",
      "\n",
      "✅ Correct negation:\n",
      "There exists real number x such that x is odd.\n"
     ]
    }
   ],
   "source": [
    "# Example run:\n",
    "quantifier_practice_random()"
   ]
  },
  {
   "cell_type": "code",
   "execution_count": null,
   "id": "f408e8fa",
   "metadata": {},
   "outputs": [],
   "source": []
  }
 ],
 "metadata": {
  "kernelspec": {
   "display_name": "base",
   "language": "python",
   "name": "python3"
  },
  "language_info": {
   "codemirror_mode": {
    "name": "ipython",
    "version": 3
   },
   "file_extension": ".py",
   "mimetype": "text/x-python",
   "name": "python",
   "nbconvert_exporter": "python",
   "pygments_lexer": "ipython3",
   "version": "3.11.5"
  }
 },
 "nbformat": 4,
 "nbformat_minor": 5
}
