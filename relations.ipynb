{
 "cells": [
  {
   "cell_type": "code",
   "execution_count": 2,
   "id": "d0954abd",
   "metadata": {},
   "outputs": [
    {
     "name": "stdout",
     "output_type": "stream",
     "text": [
      "Valid format                   -> True\n",
      "Valid format with parentheses  -> True\n",
      "Wrong separator                -> False\n",
      "Too short                      -> False\n",
      "Too long                       -> False\n",
      "Contains letters               -> False\n",
      "Empty input                    -> False\n"
     ]
    }
   ],
   "source": [
    "import re\n",
    "\n",
    "def is_valid_us_phone(phone):\n",
    "    # Regex: (xxx) xxx-xxxx or xxx-xxx-xxxx\n",
    "    pattern = r\"^(\\(\\d{3}\\)\\s?|\\d{3}-)\\d{3}-\\d{4}$\"\n",
    "    return bool(re.match(pattern, phone))\n",
    "\n",
    "# Equivalence class test cases\n",
    "test_cases = {\n",
    "    \"Valid format\": \"123-456-7890\",\n",
    "    \"Valid format with parentheses\": \"(123) 456-7890\",\n",
    "    \"Wrong separator\": \"123.456.7890\",\n",
    "    \"Too short\": \"123-4567\",\n",
    "    \"Too long\": \"123-456-789012\",\n",
    "    \"Contains letters\": \"123-ABC-7890\",\n",
    "    \"Empty input\": \"\"\n",
    "}\n",
    "\n",
    "for desc, case in test_cases.items():\n",
    "    print(f\"{desc:30} -> {is_valid_us_phone(case)}\")\n"
   ]
  },
  {
   "cell_type": "code",
   "execution_count": 10,
   "id": "eda5e618",
   "metadata": {},
   "outputs": [
    {
     "data": {
      "text/plain": [
       "False"
      ]
     },
     "execution_count": 10,
     "metadata": {},
     "output_type": "execute_result"
    }
   ],
   "source": [
    "is_valid_us_phone(\"123\")"
   ]
  },
  {
   "cell_type": "code",
   "execution_count": 11,
   "id": "5583fbb1",
   "metadata": {},
   "outputs": [],
   "source": [
    "def count_pairs_naive(nums, k):\n",
    "    count = 0\n",
    "    for i in range(len(nums)):\n",
    "        for j in range(i+1, len(nums)):\n",
    "            if nums[i] % k == nums[j] % k:\n",
    "                count += 1\n",
    "    return count\n"
   ]
  },
  {
   "cell_type": "code",
   "execution_count": null,
   "id": "bfd27730",
   "metadata": {},
   "outputs": [
    {
     "name": "stdout",
     "output_type": "stream",
     "text": [
      "9\n"
     ]
    }
   ],
   "source": [
    "## needs to be checked\n",
    "\n",
    "from collections import defaultdict\n",
    "\n",
    "def count_pairs(nums, k):\n",
    "    # Step 1: Group by equivalence class (same remainder mod k)\n",
    "    remainder_counts = defaultdict(int)\n",
    "    for num in nums:\n",
    "        remainder_counts[num % k] += 1\n",
    "\n",
    "    # Step 2: Count pairs within each class\n",
    "    total_pairs = 0\n",
    "    for count in remainder_counts.values():\n",
    "        total_pairs += count * (count - 1) // 2  # nC2 formula\n",
    "\n",
    "    return total_pairs\n",
    "\n",
    "# Example\n",
    "nums = [1, 2, 3, 4, 5, 6, 7, 8, 9] \n",
    "k = 3\n",
    "print(count_pairs(nums, k))  # Output: 12\n"
   ]
  },
  {
   "cell_type": "code",
   "execution_count": null,
   "id": "c835d423",
   "metadata": {},
   "outputs": [],
   "source": []
  }
 ],
 "metadata": {
  "kernelspec": {
   "display_name": "base",
   "language": "python",
   "name": "python3"
  },
  "language_info": {
   "codemirror_mode": {
    "name": "ipython",
    "version": 3
   },
   "file_extension": ".py",
   "mimetype": "text/x-python",
   "name": "python",
   "nbconvert_exporter": "python",
   "pygments_lexer": "ipython3",
   "version": "3.11.5"
  }
 },
 "nbformat": 4,
 "nbformat_minor": 5
}
