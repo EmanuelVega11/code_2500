{
 "cells": [
  {
   "cell_type": "code",
   "execution_count": null,
   "id": "a7fb09c8",
   "metadata": {},
   "outputs": [
    {
     "name": "stdout",
     "output_type": "stream",
     "text": [
      "Collecting matplotlib-venn\n",
      "  Downloading matplotlib-venn-1.1.2.tar.gz (40 kB)\n",
      "\u001b[2K     \u001b[90m━━━━━━━━━━━━━━━━━━━━━━━━━━━━━━━━━━━━━━━━\u001b[0m \u001b[32m40.8/40.8 kB\u001b[0m \u001b[31m1.1 MB/s\u001b[0m eta \u001b[36m0:00:00\u001b[0m\n",
      "\u001b[?25h  Installing build dependencies ... \u001b[?25ldone\n",
      "\u001b[?25h  Getting requirements to build wheel ... \u001b[?25ldone\n",
      "\u001b[?25h  Preparing metadata (pyproject.toml) ... \u001b[?25ldone\n",
      "\u001b[?25hRequirement already satisfied: matplotlib in /Users/mjl09005/anaconda3/lib/python3.11/site-packages (from matplotlib-venn) (3.7.2)\n",
      "Requirement already satisfied: numpy in /Users/mjl09005/anaconda3/lib/python3.11/site-packages (from matplotlib-venn) (1.24.2)\n",
      "Requirement already satisfied: scipy in /Users/mjl09005/anaconda3/lib/python3.11/site-packages (from matplotlib-venn) (1.11.1)\n",
      "Requirement already satisfied: contourpy>=1.0.1 in /Users/mjl09005/anaconda3/lib/python3.11/site-packages (from matplotlib->matplotlib-venn) (1.0.5)\n",
      "Requirement already satisfied: cycler>=0.10 in /Users/mjl09005/anaconda3/lib/python3.11/site-packages (from matplotlib->matplotlib-venn) (0.11.0)\n",
      "Requirement already satisfied: fonttools>=4.22.0 in /Users/mjl09005/anaconda3/lib/python3.11/site-packages (from matplotlib->matplotlib-venn) (4.25.0)\n",
      "Requirement already satisfied: kiwisolver>=1.0.1 in /Users/mjl09005/anaconda3/lib/python3.11/site-packages (from matplotlib->matplotlib-venn) (1.4.4)\n",
      "Requirement already satisfied: packaging>=20.0 in /Users/mjl09005/anaconda3/lib/python3.11/site-packages (from matplotlib->matplotlib-venn) (23.1)\n",
      "Requirement already satisfied: pillow>=6.2.0 in /Users/mjl09005/anaconda3/lib/python3.11/site-packages (from matplotlib->matplotlib-venn) (10.0.1)\n",
      "Requirement already satisfied: pyparsing<3.1,>=2.3.1 in /Users/mjl09005/anaconda3/lib/python3.11/site-packages (from matplotlib->matplotlib-venn) (3.0.9)\n",
      "Requirement already satisfied: python-dateutil>=2.7 in /Users/mjl09005/anaconda3/lib/python3.11/site-packages (from matplotlib->matplotlib-venn) (2.8.2)\n",
      "Requirement already satisfied: six>=1.5 in /Users/mjl09005/anaconda3/lib/python3.11/site-packages (from python-dateutil>=2.7->matplotlib->matplotlib-venn) (1.16.0)\n",
      "Building wheels for collected packages: matplotlib-venn\n",
      "  Building wheel for matplotlib-venn (pyproject.toml) ... \u001b[?25ldone\n",
      "\u001b[?25h  Created wheel for matplotlib-venn: filename=matplotlib_venn-1.1.2-py3-none-any.whl size=45388 sha256=f836047e6bab2cf0ebf6c76145f7b81dab88838b2ffa3de731d8b1ab95b03bd5\n",
      "  Stored in directory: /Users/mjl09005/Library/Caches/pip/wheels/c4/16/4a/93374cd955bbe0553a8ce74db7f0fbd5fcc876e19fb78bd601\n",
      "Successfully built matplotlib-venn\n",
      "Installing collected packages: matplotlib-venn\n",
      "Successfully installed matplotlib-venn-1.1.2\n",
      "Note: you may need to restart the kernel to use updated packages.\n"
     ]
    }
   ],
   "source": [
    "# You may need to install this package first\n",
    "pip install matplotlib-venn"
   ]
  },
  {
   "cell_type": "markdown",
   "id": "8328670f",
   "metadata": {},
   "source": [
    "### Potential source of data:\n",
    "[Generate lists of Pokemon by type](https://pokemondb.net/tools/text-list)"
   ]
  },
  {
   "cell_type": "code",
   "execution_count": 7,
   "id": "154dbd3e",
   "metadata": {},
   "outputs": [
    {
     "name": "stdout",
     "output_type": "stream",
     "text": [
      "\n",
      "Input elements for each set (separated by spaces):\n",
      "\n",
      "--- Results ---\n",
      "water: {'Slowpoke', 'Poliwhirl', 'Goldeen', 'Poliwrath', 'Psyduck', 'Seel', 'Kingler', 'Seadra', 'Vaporeon', 'Starmie', 'Horsea', 'Golduck', 'Kabutops', 'Seaking', 'Tentacruel', 'Lapras', 'Magikarp', 'Poliwag', 'Blastoise', 'Omanyte', 'Wartortle', 'Tentacool', 'Gyarados', 'Dewgong', 'Staryu', 'Krabby', 'Cloyster', 'Kabuto', 'Squirtle', 'Omastar', 'Slowbro', 'Shellder'} -> count = 32\n",
      "flying: {'Spearow', 'Doduo', 'Moltres', 'Scyther', 'Fearow', 'Pidgeotto', \"Farfetch'd\", 'Pidgeot', 'Aerodactyl', 'Golbat', 'Pidgey', 'Dodrio', 'Zubat', 'Dragonite', 'Butterfree', 'Articuno', 'Gyarados', 'Charizard', 'Zapdos'} -> count = 19\n",
      "ice: {'Jynx', 'Dewgong', 'Cloyster', 'Lapras', 'Articuno'} -> count = 5\n",
      "Union (water∪flying∪ice): {'Slowpoke', 'Spearow', 'Poliwhirl', 'Goldeen', 'Doduo', 'Jynx', 'Poliwrath', 'Psyduck', 'Seel', 'Kingler', 'Moltres', 'Scyther', 'Fearow', 'Pidgeotto', 'Seadra', 'Vaporeon', \"Farfetch'd\", 'Starmie', 'Pidgeot', 'Aerodactyl', 'Horsea', 'Golduck', 'Kabutops', 'Seaking', 'Golbat', 'Tentacruel', 'Pidgey', 'Lapras', 'Dodrio', 'Magikarp', 'Zubat', 'Poliwag', 'Dragonite', 'Butterfree', 'Blastoise', 'Articuno', 'Omanyte', 'Wartortle', 'Tentacool', 'Gyarados', 'Dewgong', 'Staryu', 'Krabby', 'Cloyster', 'Charizard', 'Zapdos', 'Kabuto', 'Squirtle', 'Omastar', 'Slowbro', 'Shellder'} -> count = 51\n",
      "Triple Intersection (water∩flying∩ice): set() -> count = 0\n",
      "water∩flying: {'Gyarados'} -> count = 1\n",
      "water∩ice: {'Dewgong', 'Cloyster', 'Lapras'} -> count = 3\n",
      "flying∩ice: {'Articuno'} -> count = 1\n",
      "Complement (universe - union): {'Rhyhorn', 'Nidorina', 'Persian', 'Venonat', 'Electabuzz', 'Oddish', 'Rattata', 'Geodude', 'Mew', 'Exeggcute', 'Nidoking', 'Abra', 'Bellsprout', 'Wigglytuff', 'Tauros', 'Magmar', 'Drowzee', 'Voltorb', 'Clefable', 'Mime', 'Lickitung', 'Diglett', 'Mankey', 'Sandslash', 'Machoke', 'Nidoran♀', 'Growlithe', 'Pinsir', 'Dugtrio', 'Ponyta', 'Paras', 'Ivysaur', 'Nidoran♂', 'Magneton', 'Ditto', 'Graveler', 'Charmeleon', 'Gengar', 'Venomoth', 'Hypno', 'Meowth', 'Pikachu', 'Onix', 'Raticate', 'Cubone', 'Kakuna', 'Chansey', 'Haunter', 'Koffing', 'Muk', 'Nidorino', 'Kangaskhan', 'Ninetales', 'Electrode', 'Mr.', 'Weezing', 'Metapod', 'Gloom', 'Exeggutor', 'Jolteon', 'Vulpix', 'Kadabra', 'Grimer', 'Marowak', 'Eevee', 'Raichu', 'Rhydon', 'Dratini', 'Hitmonlee', 'Mewtwo', 'Bulbasaur', 'Parasect', 'Machop', 'Machamp', 'Golem', 'Weepinbell', 'Ekans', 'Hitmonchan', 'Jigglypuff', 'Primeape', 'Rapidash', 'Snorlax', 'Weedle', 'Nidoqueen', 'Dragonair', 'Porygon', 'Clefairy', 'Sandshrew', 'Victreebel', 'Tangela', 'Arcanine', 'Magnemite', 'Flareon', 'Alakazam', 'Vileplume', 'Venusaur', 'Caterpie', 'Charmander', 'Beedrill', 'Gastly', 'Arbok'} -> count = 101\n",
      "Total count (addition principle check): 51\n",
      "Sets overlap → addition principle does NOT apply directly.\n"
     ]
    },
    {
     "data": {
      "image/png": "[encoded data removed]",
      "text/plain": [
       "<Figure size 800x800 with 1 Axes>"
      ]
     },
     "metadata": {},
     "output_type": "display_data"
    }
   ],
   "source": [
    "import matplotlib.pyplot as plt\n",
    "from matplotlib_venn import venn3\n",
    "\n",
    "def input_set(name):\n",
    "    s = input(f\"Enter elements of set {name} separated by spaces: \")\n",
    "    return set(item.strip() for item in s.split() if item.strip())\n",
    "\n",
    "def interactive_venn_demo():\n",
    "    # Input labels\n",
    "    label_A = input(\"Enter label for Set A: \") or \"A\"\n",
    "    label_B = input(\"Enter label for Set B: \") or \"B\"\n",
    "    label_C = input(\"Enter label for Set C: \") or \"C\"\n",
    "\n",
    "    # Input sets\n",
    "    print(\"\\nInput elements for each set (separated by spaces):\")\n",
    "    A = input_set(label_A)\n",
    "    B = input_set(label_B)\n",
    "    C = input_set(label_C)\n",
    "\n",
    "    # Define universe as union of all + optional extra elements\n",
    "    universe_input = input(\"\\nEnter universe elements separated by spaces (or leave blank for union of all sets): \")\n",
    "    if universe_input.strip():\n",
    "        universe = set(item.strip() for item in universe_input.split() if item.strip())\n",
    "    else:\n",
    "        universe = A | B | C\n",
    "\n",
    "    # Compute unions and intersections\n",
    "    union_set = A | B | C\n",
    "    triple_intersection = A & B & C\n",
    "    pairwise_intersections = {\n",
    "        f\"{label_A}∩{label_B}\": A & B,\n",
    "        f\"{label_A}∩{label_C}\": A & C,\n",
    "        f\"{label_B}∩{label_C}\": B & C\n",
    "    }\n",
    "    complement_set = universe - union_set\n",
    "\n",
    "    # Addition principle check\n",
    "    if A.isdisjoint(B) and A.isdisjoint(C) and B.isdisjoint(C):\n",
    "        total_by_addition = len(A) + len(B) + len(C)\n",
    "        addition_msg = \"Sets are disjoint → addition principle applies.\"\n",
    "    else:\n",
    "        total_by_addition = len(union_set)\n",
    "        addition_msg = \"Sets overlap → addition principle does NOT apply directly.\"\n",
    "\n",
    "    # Print results\n",
    "    print(\"\\n--- Results ---\")\n",
    "    print(f\"{label_A}: {A} -> count = {len(A)}\")\n",
    "    print(f\"{label_B}: {B} -> count = {len(B)}\")\n",
    "    print(f\"{label_C}: {C} -> count = {len(C)}\")\n",
    "    print(f\"Union ({label_A}∪{label_B}∪{label_C}): {union_set} -> count = {len(union_set)}\")\n",
    "    print(f\"Triple Intersection ({label_A}∩{label_B}∩{label_C}): {triple_intersection} -> count = {len(triple_intersection)}\")\n",
    "    for k, v in pairwise_intersections.items():\n",
    "        print(f\"{k}: {v} -> count = {len(v)}\")\n",
    "    print(f\"Complement (universe - union): {complement_set} -> count = {len(complement_set)}\")\n",
    "    print(f\"Total count (addition principle check): {total_by_addition}\")\n",
    "    print(addition_msg)\n",
    "\n",
    "    # Venn diagram\n",
    "    plt.figure(figsize=(8,8))\n",
    "    venn3([A, B, C], set_labels=(label_A, label_B, label_C))\n",
    "    plt.title(\"Venn Diagram of Input Sets\")\n",
    "    plt.show()\n",
    "\n",
    "# Run the interactive demo\n",
    "interactive_venn_demo()\n"
   ]
  },
  {
   "cell_type": "code",
   "execution_count": 6,
   "id": "722d96bc",
   "metadata": {},
   "outputs": [
    {
     "name": "stdout",
     "output_type": "stream",
     "text": [
      "s1 = {1, 2}\n",
      "|s1| = 2\n",
      "P(s1) = {{1}, {1, 2}, {}, {2}}\n",
      "|s1| = 4 = 2^2\n",
      "P(P(s2)) = {{{1, 2}, {}}, {{}, {2}}, {{1}}, {{1}, {2}}, {{2}}, {{1}, {1, 2}, {}, {2}}, {{1}, {1, 2}, {2}}, {{1, 2}, {}, {2}}, {{1, 2}, {2}}, {{1}, {}}, {{1}, {1, 2}}, {{1}, {1, 2}, {}}, {{}}, {{1}, {}, {2}}, {{1, 2}}, {}}\n",
      "|s2| = 16 = 2^4\n"
     ]
    }
   ],
   "source": [
    "# Power Set Generator\n",
    "from itertools import combinations\n",
    "\n",
    "# since sets can't hash other sets we use tuples (but pretend they represent sets).\n",
    "\n",
    "def power_set(original_set: list) -> list:\n",
    "    # start with sets of size 0, then 1, then 2, ... then n\n",
    "    power_set = {()} # set of size 0\n",
    "    for i in range(1, len(original_set) + 1):\n",
    "        # we are looking for every possible combination set of size i\n",
    "        for comb in combinations(original_set, i):\n",
    "            power_set.add(comb)\n",
    "            \n",
    "    return set(power_set)\n",
    "\n",
    "def convert_sets_to_strings(in_set: set) -> str:\n",
    "    return str(in_set).replace(\"(\", \"{\").replace(\")\", \"}\").replace(\",}\", \"}\")\n",
    "\n",
    "N = 3 # number of total sets you want (just note this takes exponential runtime so continuing past s2 with be slow!)\n",
    "s = {1,2} # |s1| = 2\n",
    "print(f\"s{1} = {convert_sets_to_strings(s)}\\n|s{1}| = {len(s)}\")\n",
    "\n",
    "for i in range(1, N):\n",
    "    og_length = len(s)\n",
    "    s = power_set(s)\n",
    "    print(f\"{\"P(\"*i}s{i}{\")\"*(i-1)}) = {convert_sets_to_strings(s)}\\n|s{i}| = {len(s)} = 2^{og_length}\")\n",
    "\n"
   ]
  },
  {
   "cell_type": "markdown",
   "id": "cf70c96e",
   "metadata": {},
   "source": []
  }
 ],
 "metadata": {
  "kernelspec": {
   "display_name": "Python 3",
   "language": "python",
   "name": "python3"
  },
  "language_info": {
   "codemirror_mode": {
    "name": "ipython",
    "version": 3
   },
   "file_extension": ".py",
   "mimetype": "text/x-python",
   "name": "python",
   "nbconvert_exporter": "python",
   "pygments_lexer": "ipython3",
   "version": "3.12.3"
  }
 },
 "nbformat": 4,
 "nbformat_minor": 5
}
