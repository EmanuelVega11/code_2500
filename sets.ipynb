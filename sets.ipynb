{
 "cells": [
  {
   "cell_type": "code",
   "execution_count": null,
   "id": "a7fb09c8",
   "metadata": {},
   "outputs": [],
   "source": [
    "# You may need to install this package first\n",
    "#pip install matplotlib-venn"
   ]
  },
  {
   "cell_type": "markdown",
   "id": "b6116f17",
   "metadata": {},
   "source": [
    "## Create Venn Diagrams"
   ]
  },
  {
   "cell_type": "markdown",
   "id": "8328670f",
   "metadata": {},
   "source": [
    "### Potential source of data:\n",
    "[Generate lists of Pokemon by type](https://pokemondb.net/tools/text-list)"
   ]
  },
  {
   "cell_type": "code",
   "execution_count": 1,
   "id": "154dbd3e",
   "metadata": {},
   "outputs": [
    {
     "name": "stdout",
     "output_type": "stream",
     "text": [
      "\n",
      "Input elements for each set (separated by spaces):\n",
      "\n",
      "--- Results ---\n",
      "water: {'Gyarados', 'Lapras', 'Omanyte', 'Wartortle', 'Squirtle', 'Tentacool', 'Tentacruel', 'Poliwag', 'Poliwhirl', 'Seadra', 'Seaking', 'Kabuto', 'Staryu', 'Kingler', 'Golduck', 'Blastoise', 'Magikarp', 'Omastar', 'Starmie', 'Slowbro', 'Dewgong', 'Horsea', 'Seel', 'Krabby', 'Slowpoke', 'Poliwrath', 'Psyduck', 'Shellder', 'Cloyster', 'Goldeen', 'Kabutops', 'Vaporeon'} -> count = 32\n",
      "ice: {'Lapras', 'Cloyster', 'Articuno', 'Jynx', 'Dewgong'} -> count = 5\n",
      "flying: {'Gyarados', 'Zapdos', 'Pidgeot', 'Scyther', 'Pidgeotto', 'Zubat', 'Doduo', 'Dragonite', 'Moltres', 'Spearow', 'Articuno', \"Farfetch'd\", 'Golbat', 'Fearow', 'Pidgey', 'Aerodactyl', 'Charizard', 'Dodrio', 'Butterfree'} -> count = 19\n",
      "Union (water∪ice∪flying): {'Gyarados', 'Lapras', 'Zapdos', 'Omanyte', 'Pidgeot', 'Scyther', 'Pidgeotto', 'Wartortle', 'Squirtle', 'Tentacool', 'Tentacruel', 'Zubat', 'Doduo', 'Poliwag', 'Poliwhirl', 'Seadra', 'Seaking', 'Kabuto', 'Dragonite', 'Staryu', 'Kingler', 'Golduck', 'Blastoise', 'Magikarp', 'Moltres', 'Spearow', 'Articuno', \"Farfetch'd\", 'Golbat', 'Omastar', 'Starmie', 'Slowbro', 'Fearow', 'Dewgong', 'Pidgey', 'Horsea', 'Seel', 'Krabby', 'Slowpoke', 'Poliwrath', 'Aerodactyl', 'Psyduck', 'Shellder', 'Cloyster', 'Charizard', 'Goldeen', 'Kabutops', 'Dodrio', 'Vaporeon', 'Jynx', 'Butterfree'} -> count = 51\n",
      "Triple Intersection (water∩ice∩flying): set() -> count = 0\n",
      "water∩ice: {'Lapras', 'Cloyster', 'Dewgong'} -> count = 3\n",
      "water∩flying: {'Gyarados'} -> count = 1\n",
      "ice∩flying: {'Articuno'} -> count = 1\n",
      "Complement (universe - union): {'Nidorino', 'Clefable', 'Grimer', 'Gengar', 'Beedrill', 'Gastly', 'Exeggcute', 'Hitmonchan', 'Weepinbell', 'Nidoran♀', 'Dragonair', 'Mew', 'Onix', 'Venusaur', 'Wigglytuff', 'Jolteon', 'Machop', 'Electrode', 'Geodude', 'Golem', 'Tangela', 'Caterpie', 'Lickitung', 'Dugtrio', 'Hypno', 'Charmander', 'Victreebel', 'Bulbasaur', 'Kangaskhan', 'Graveler', 'Alakazam', 'Rattata', 'Koffing', 'Nidoran♂', 'Magneton', 'Marowak', 'Sandshrew', 'Bellsprout', 'Sandslash', 'Hitmonlee', 'Muk', 'Pinsir', 'Snorlax', 'Ivysaur', 'Persian', 'Arcanine', 'Ditto', 'Venomoth', 'Flareon', 'Cubone', 'Weezing', 'Mewtwo', 'Abra', 'Voltorb', 'Clefairy', 'Vileplume', 'Ninetales', 'Parasect', 'Diglett', 'Venonat', 'Dratini', 'Kadabra', 'Exeggutor', 'Rapidash', 'Arbok', 'Electabuzz', 'Meowth', 'Pikachu', 'Machamp', 'Magmar', 'Nidoking', 'Rhydon', 'Gloom', 'Chansey', 'Weedle', 'Mime', 'Drowzee', 'Vulpix', 'Machoke', 'Haunter', 'Raichu', 'Metapod', 'Charmeleon', 'Nidoqueen', 'Jigglypuff', 'Mr.', 'Mankey', 'Growlithe', 'Ekans', 'Paras', 'Ponyta', 'Tauros', 'Raticate', 'Primeape', 'Eevee', 'Nidorina', 'Oddish', 'Porygon', 'Rhyhorn', 'Kakuna', 'Magnemite'} -> count = 101\n",
      "Total count (addition principle check): 51\n",
      "Sets overlap → addition principle does NOT apply directly.\n"
     ]
    },
    {
     "data": {
      "image/png": "[encoded data removed]",
      "text/plain": [
       "<Figure size 800x800 with 1 Axes>"
      ]
     },
     "metadata": {},
     "output_type": "display_data"
    }
   ],
   "source": [
    "import matplotlib.pyplot as plt\n",
    "from matplotlib_venn import venn3\n",
    "\n",
    "def input_set(name):\n",
    "    s = input(f\"Enter elements of set {name} separated by spaces: \")\n",
    "    return set(item.strip() for item in s.split() if item.strip())\n",
    "\n",
    "def interactive_venn_demo():\n",
    "    # Input labels\n",
    "    label_A = input(\"Enter label for Set A: \") or \"A\"\n",
    "    label_B = input(\"Enter label for Set B: \") or \"B\"\n",
    "    label_C = input(\"Enter label for Set C: \") or \"C\"\n",
    "\n",
    "    # Input sets\n",
    "    print(\"\\nInput elements for each set (separated by spaces):\")\n",
    "    A = input_set(label_A)\n",
    "    B = input_set(label_B)\n",
    "    C = input_set(label_C)\n",
    "\n",
    "    # Define universe as union of all + optional extra elements\n",
    "    universe_input = input(\"\\nEnter universe elements separated by spaces (or leave blank for union of all sets): \")\n",
    "    if universe_input.strip():\n",
    "        universe = set(item.strip() for item in universe_input.split() if item.strip())\n",
    "    else:\n",
    "        universe = A | B | C\n",
    "\n",
    "    # Compute unions and intersections\n",
    "    union_set = A | B | C\n",
    "    triple_intersection = A & B & C\n",
    "    pairwise_intersections = {\n",
    "        f\"{label_A}∩{label_B}\": A & B,\n",
    "        f\"{label_A}∩{label_C}\": A & C,\n",
    "        f\"{label_B}∩{label_C}\": B & C\n",
    "    }\n",
    "    complement_set = universe - union_set\n",
    "\n",
    "    # Addition principle check\n",
    "    if A.isdisjoint(B) and A.isdisjoint(C) and B.isdisjoint(C):\n",
    "        total_by_addition = len(A) + len(B) + len(C)\n",
    "        addition_msg = \"Sets are disjoint → addition principle applies.\"\n",
    "    else:\n",
    "        total_by_addition = len(union_set)\n",
    "        addition_msg = \"Sets overlap → addition principle does NOT apply directly.\"\n",
    "\n",
    "    # Print results\n",
    "    print(\"\\n--- Results ---\")\n",
    "    print(f\"{label_A}: {A} -> count = {len(A)}\")\n",
    "    print(f\"{label_B}: {B} -> count = {len(B)}\")\n",
    "    print(f\"{label_C}: {C} -> count = {len(C)}\")\n",
    "    print(f\"Union ({label_A}∪{label_B}∪{label_C}): {union_set} -> count = {len(union_set)}\")\n",
    "    print(f\"Triple Intersection ({label_A}∩{label_B}∩{label_C}): {triple_intersection} -> count = {len(triple_intersection)}\")\n",
    "    for k, v in pairwise_intersections.items():\n",
    "        print(f\"{k}: {v} -> count = {len(v)}\")\n",
    "    print(f\"Complement (universe - union): {complement_set} -> count = {len(complement_set)}\")\n",
    "    print(f\"Total count (addition principle check): {total_by_addition}\")\n",
    "    print(addition_msg)\n",
    "\n",
    "    # Venn diagram\n",
    "    plt.figure(figsize=(8,8))\n",
    "    venn3([A, B, C], set_labels=(label_A, label_B, label_C))\n",
    "    plt.title(\"Venn Diagram of Input Sets\")\n",
    "    plt.show()\n",
    "\n",
    "# Run the interactive demo\n",
    "interactive_venn_demo()\n"
   ]
  },
  {
   "cell_type": "markdown",
   "id": "a227260c",
   "metadata": {},
   "source": [
    "## Create power sets"
   ]
  },
  {
   "cell_type": "code",
   "execution_count": 2,
   "id": "722d96bc",
   "metadata": {},
   "outputs": [],
   "source": [
    "# Power Set Generator\n",
    "from itertools import combinations\n",
    "\n",
    "# since sets can't hash other sets we use tuples (but pretend they represent sets).\n",
    "\n",
    "def power_set(original_set: list) -> list:\n",
    "    # start with sets of size 0, then 1, then 2, ... then n\n",
    "    power_set = {()} # set of size 0\n",
    "    for i in range(1, len(original_set) + 1):\n",
    "        # we are looking for every possible combination set of size i\n",
    "        for comb in combinations(original_set, i):\n",
    "            power_set.add(comb)\n",
    "            \n",
    "    return set(power_set)\n",
    "\n",
    "def convert_sets_to_strings(in_set: set) -> str:\n",
    "    return str(in_set).replace(\"(\", \"{\").replace(\")\", \"}\").replace(\",}\", \"}\")"
   ]
  },
  {
   "cell_type": "code",
   "execution_count": 3,
   "id": "33e748bd",
   "metadata": {},
   "outputs": [
    {
     "name": "stdout",
     "output_type": "stream",
     "text": [
      "s1 = {1, 2}\n",
      "|s1| = 2\n",
      "P(s1 = {{1}, {1, 2}, {}, {2}}\n",
      "|s1| = 4 = 2^2\n",
      "P(P(s2) = {{{1, 2}, {}}, {{}, {2}}, {{1}}, {{1}, {2}}, {{2}}, {{1}, {1, 2}, {}, {2}}, {{1}, {1, 2}, {2}}, {{1, 2}, {}, {2}}, {{1, 2}, {2}}, {{1}, {}}, {{1}, {1, 2}}, {{1}, {1, 2}, {}}, {{}}, {{1}, {}, {2}}, {{1, 2}}, {}}\n",
      "|s2| = 16 = 2^4\n"
     ]
    }
   ],
   "source": [
    "N = 3 # number of total sets you want (just note this takes exponential runtime so continuing past s2 with be slow!)\n",
    "s = {1,2} # |s1| = 2\n",
    "print(f\"s{1} = {convert_sets_to_strings(s)}\\n|s{1}| = {len(s)}\")\n",
    "\n",
    "for i in range(1, N):\n",
    "    og_length = len(s)\n",
    "    s = power_set(s)\n",
    "    print(\n",
    "    f\"{'P(' * i}s{i}{')' * (i - 1)} = {convert_sets_to_strings(s)}\\n\"\n",
    "    f\"|s{i}| = {len(s)} = 2^{og_length}\"\n",
    ")\n"
   ]
  },
  {
   "cell_type": "markdown",
   "id": "cf70c96e",
   "metadata": {},
   "source": []
  }
 ],
 "metadata": {
  "kernelspec": {
   "display_name": "base",
   "language": "python",
   "name": "python3"
  },
  "language_info": {
   "codemirror_mode": {
    "name": "ipython",
    "version": 3
   },
   "file_extension": ".py",
   "mimetype": "text/x-python",
   "name": "python",
   "nbconvert_exporter": "python",
   "pygments_lexer": "ipython3",
   "version": "3.11.5"
  }
 },
 "nbformat": 4,
 "nbformat_minor": 5
}
