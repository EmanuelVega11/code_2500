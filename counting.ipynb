{
 "cells": [
  {
   "cell_type": "code",
   "execution_count": null,
   "id": "de253d9a",
   "metadata": {},
   "outputs": [],
   "source": [
    "from math import factorial\n",
    "from collections import Counter\n",
    "\n",
    "def unique_permutation_count(s: str):\n",
    "    \"\"\"Takes a string and returns the number of unique permutations of its letters\"\"\"\n",
    "   \n",
    "    # Count the frequency of each character\n",
    "    freq = Counter(s)\n",
    "    \n",
    "    # Calculate n! / (n1! * n2! * ...)\n",
    "    numerator = factorial(len(s))\n",
    "    denominator = 1\n",
    "    for count in freq.values():\n",
    "        denominator *= factorial(count)\n",
    "    \n",
    "    return numerator / denominator"
   ]
  },
  {
   "cell_type": "code",
   "execution_count": 5,
   "id": "8fc7ec22",
   "metadata": {},
   "outputs": [
    {
     "name": "stdout",
     "output_type": "stream",
     "text": [
      "34650.0\n"
     ]
    }
   ],
   "source": [
    "# Example usage:\n",
    "print(unique_permutation_count(\"mississippi\"))"
   ]
  },
  {
   "cell_type": "code",
   "execution_count": null,
   "id": "7c674592",
   "metadata": {},
   "outputs": [],
   "source": []
  }
 ],
 "metadata": {
  "kernelspec": {
   "display_name": "base",
   "language": "python",
   "name": "python3"
  },
  "language_info": {
   "codemirror_mode": {
    "name": "ipython",
    "version": 3
   },
   "file_extension": ".py",
   "mimetype": "text/x-python",
   "name": "python",
   "nbconvert_exporter": "python",
   "pygments_lexer": "ipython3",
   "version": "3.11.5"
  }
 },
 "nbformat": 4,
 "nbformat_minor": 5
}
